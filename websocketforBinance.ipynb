{
  "nbformat": 4,
  "nbformat_minor": 0,
  "metadata": {
    "colab": {
      "name": "Untitled0.ipynb",
      "provenance": [],
      "collapsed_sections": [],
      "toc_visible": true,
      "authorship_tag": "ABX9TyMCndLx2Q2iJp/x+RFoNrvW",
      "include_colab_link": true
    },
    "kernelspec": {
      "name": "python3",
      "display_name": "Python 3"
    },
    "language_info": {
      "name": "python"
    }
  },
  "cells": [
    {
      "cell_type": "markdown",
      "metadata": {
        "id": "view-in-github",
        "colab_type": "text"
      },
      "source": [
        "<a href=\"https://colab.research.google.com/github/yrocka/AAI-Botstore-Bots/blob/master/websocketforBinance.ipynb\" target=\"_parent\"><img src=\"https://colab.research.google.com/assets/colab-badge.svg\" alt=\"Open In Colab\"/></a>"
      ]
    },
    {
      "cell_type": "code",
      "metadata": {
        "id": "z9QhL6UrHM9L",
        "colab": {
          "base_uri": "https://localhost:8080/"
        },
        "outputId": "ccf2dffd-f9ec-4eb9-8eb8-3cc210e319e8"
      },
      "source": [
        "pip install websocket-client"
      ],
      "execution_count": 1,
      "outputs": [
        {
          "output_type": "stream",
          "text": [
            "Collecting websocket-client\n",
            "\u001b[?25l  Downloading https://files.pythonhosted.org/packages/85/ee/7aa724dc2dbed9b028f463eada5482770c13b7381a0c79457d12b3b62de2/websocket_client-1.0.1-py2.py3-none-any.whl (68kB)\n",
            "\u001b[K     |████████████████████████████████| 71kB 2.4MB/s \n",
            "\u001b[?25hInstalling collected packages: websocket-client\n",
            "Successfully installed websocket-client-1.0.1\n"
          ],
          "name": "stdout"
        }
      ]
    },
    {
      "cell_type": "code",
      "metadata": {
        "id": "iBGhTMqNIOnS"
      },
      "source": [
        "import websocket,json"
      ],
      "execution_count": 17,
      "outputs": []
    },
    {
      "cell_type": "code",
      "metadata": {
        "id": "ZcsqRFzNIXev"
      },
      "source": [
        "cc = 'btcusd'\n",
        "interval = '1m'\n",
        "\n",
        "socket = f'wss://stream.binance.com:9443/ws/{cc}t@kline_{interval}'"
      ],
      "execution_count": 18,
      "outputs": []
    },
    {
      "cell_type": "code",
      "metadata": {
        "colab": {
          "base_uri": "https://localhost:8080/",
          "height": 37
        },
        "id": "0K7N3Ke1IuCP",
        "outputId": "e32e9e43-5a9c-4e43-cf8d-ec2c5137ca2b"
      },
      "source": [
        "socket"
      ],
      "execution_count": 19,
      "outputs": [
        {
          "output_type": "execute_result",
          "data": {
            "application/vnd.google.colaboratory.intrinsic+json": {
              "type": "string"
            },
            "text/plain": [
              "'wss://stream.binance.com:9443/ws/btcusdt@kline_1m'"
            ]
          },
          "metadata": {
            "tags": []
          },
          "execution_count": 19
        }
      ]
    },
    {
      "cell_type": "code",
      "metadata": {
        "id": "8ismVVtqBua6"
      },
      "source": [
        "closes,highs,lows = [],[],[]"
      ],
      "execution_count": 20,
      "outputs": []
    },
    {
      "cell_type": "code",
      "metadata": {
        "id": "x-KwW5cAIyT2"
      },
      "source": [
        "def on_message(ws, message):\n",
        "    json_message = json.loads(message)\n",
        "    candle = json_message['k']\n",
        "    is_candle_closed = candle['x']\n",
        "\n",
        "    close = candle['c']\n",
        "    high = candle['h']\n",
        "    low = candle['l']\n",
        "    vol = candle['v']\n",
        "\n",
        "    if is_candle_closed:\n",
        "      closes.append(float(close))\n",
        "      highs.append(float(high))\n",
        "      lows.append(float(low))\n",
        "\n",
        "      print(closes)\n",
        "      print(highs)\n",
        "      print(lows)\n",
        "    \n",
        "def on_error(ws, error):\n",
        "    print(error)\n",
        "\n",
        "def on_close(ws):\n",
        "    print(\"### closed ###\")\n",
        "\n",
        "ws = websocket.WebSocketApp(socket,\n",
        "                          on_message = on_message,\n",
        "                          on_error = on_error,\n",
        "                          on_close = on_close)"
      ],
      "execution_count": 21,
      "outputs": []
    },
    {
      "cell_type": "code",
      "metadata": {
        "colab": {
          "base_uri": "https://localhost:8080/"
        },
        "id": "MZQNNaE2JDrC",
        "outputId": "3e432b72-a10c-460d-96ae-7d570ca13b3e"
      },
      "source": [
        "ws.run_forever(sslopt={\"check_hostname\": False})"
      ],
      "execution_count": 22,
      "outputs": [
        {
          "output_type": "stream",
          "text": [
            "[36246.25]\n",
            "[36283.34]\n",
            "[36208.48]\n",
            "[36246.25, 36307.28]\n",
            "[36283.34, 36322.35]\n",
            "[36208.48, 36244.34]\n",
            "\n"
          ],
          "name": "stdout"
        },
        {
          "output_type": "execute_result",
          "data": {
            "text/plain": [
              "False"
            ]
          },
          "metadata": {
            "tags": []
          },
          "execution_count": 22
        }
      ]
    },
    {
      "cell_type": "code",
      "metadata": {
        "id": "ESj9Ig8VAMwj"
      },
      "source": [
        ""
      ],
      "execution_count": null,
      "outputs": []
    }
  ]
}